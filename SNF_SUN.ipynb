{
  "cells": [
    {
      "cell_type": "markdown",
      "metadata": {
        "id": "OCoQH0wGf0PX"
      },
      "source": [
        "# SNF for lattice $\\textrm{SU}(3)$\n",
        "Andrea Bulgarelli, Elia Cellini and Alessandro Nada"
      ]
    },
    {
      "cell_type": "markdown",
      "metadata": {
        "id": "R8Ez4yjRf0PY"
      },
      "source": [
        "The following notebook provides an introduction to the code used in our paper **[Scaling of Stochastic Normalizing Flows in $\\textrm{SU}(3)$ lattice gauge theory](https://arxiv.org/abs/2412.00200)**, if this code is useful for your research, please cite us:\n",
        "\n",
        "\n",
        "```\n",
        "@article{Bulgarelli:2024brv,\n",
        "    author = \"Bulgarelli, Andrea and Cellini, Elia and Nada, Alessandro\",\n",
        "    title = \"{Scaling of Stochastic Normalizing Flows in $\\mathrm{SU}(3)$ lattice gauge theory}\",\n",
        "    eprint = \"2412.00200\",\n",
        "    archivePrefix = \"arXiv\",\n",
        "    primaryClass = \"hep-lat\",\n",
        "    month = \"11\",\n",
        "    year = \"2024\"\n",
        "}\n",
        "```\n"
      ]
    },
    {
      "cell_type": "markdown",
      "metadata": {
        "id": "pnL2WDUFf0PZ"
      },
      "source": [
        "<ins>**For an introduction on Stochastic Normalizing Flows for lattice field theory, see also this notebook: [SNF_for_LFT](https://github.com/TurinLatticeFieldTheoryGroup/SNF_for_LFT)**</ins>"
      ]
    },
    {
      "cell_type": "markdown",
      "metadata": {
        "id": "SlpooCicf0PZ"
      },
      "source": [
        "The algorithm presented in this notebook is a **Stochastic Normalizing Flows (SNF)** made by interliving deterministic gauge equivariant layers and stochastic Monte Carlo updates. In the following, we will introduce the stochastic parts, and then the deterministic ones. In the last section, we will train and test a simple SNF."
      ]
    },
    {
      "cell_type": "markdown",
      "metadata": {
        "id": "E7qPB8H7f0PZ"
      },
      "source": [
        "## Utility Stuff for SU(3) calculations"
      ]
    },
    {
      "cell_type": "markdown",
      "metadata": {
        "id": "YszunnrCf0PZ"
      },
      "source": [
        "The main two libraries used in this implementation are NumPy and PyTorch. The low-level parts of the code are not discussed in this notebook. Please proceed by running and skipping to the next section.\n"
      ]
    },
    {
      "cell_type": "code",
      "execution_count": 1,
      "metadata": {
        "id": "0UCBGRHjIbFe"
      },
      "outputs": [],
      "source": [
        "import numpy as np\n",
        "import torch\n",
        "import torch.utils.checkpoint as checkpoint\n",
        "import matplotlib.pyplot as plt\n",
        "import time"
      ]
    },
    {
      "cell_type": "code",
      "execution_count": 2,
      "metadata": {
        "colab": {
          "base_uri": "https://localhost:8080/"
        },
        "id": "uuGNqsUAIe4u",
        "outputId": "f39886bf-bad4-46cc-a8ae-5d6d9f7973df"
      },
      "outputs": [
        {
          "output_type": "stream",
          "name": "stdout",
          "text": [
            "TORCH DEVICE: cuda\n"
          ]
        }
      ],
      "source": [
        "if torch.cuda.is_available():\n",
        "    torch_device = 'cuda'\n",
        "    float_dtype = np.float64\n",
        "    torch.set_default_dtype(torch.float64)\n",
        "    torch.set_default_device('cuda')\n",
        "else:\n",
        "    torch_device = 'cpu'\n",
        "    float_dtype = np.float64\n",
        "    torch.set_default_dtype(torch.float64)\n",
        "\n",
        "print(f\"TORCH DEVICE: {torch_device}\")"
      ]
    },
    {
      "cell_type": "code",
      "execution_count": 3,
      "metadata": {
        "id": "sTTrLWflIew2"
      },
      "outputs": [],
      "source": [
        "#### Utility\n",
        "def torch_mod(x):\n",
        "    return torch.remainder(x, 2*np.pi)\n",
        "def torch_wrap(x):\n",
        "    return torch_mod(x+np.pi) - np.pi\n",
        "def grab(var):\n",
        "    return var.detach().cpu().numpy()\n",
        "\n",
        "\n",
        "def SUN_identity(init_shape):\n",
        "    id = torch.ones(init_shape, dtype=torch.cdouble)\n",
        "    return torch.diag_embed(id)\n",
        "\n",
        "def hot_SU2_start_nonuniform(init_shape_SU2):\n",
        "    x0 = torch.rand(init_shape_SU2, dtype=torch.cdouble)\n",
        "    nrm = torch.norm(x0, dim = -1)\n",
        "    x0 = x0 / nrm.unsqueeze(-1)\n",
        "\n",
        "    x1 = torch.conj((x0 * torch.tensor([1,-1]).view([1]*(len(init_shape_SU2)-1)+[2])).roll(1,-1))\n",
        "\n",
        "    return torch.cat((x0.unsqueeze(-2),x1.unsqueeze(-2)),-2)\n",
        "\n",
        "def SUN_determinant(cfgs):\n",
        "    return torch.linalg.det(cfgs)\n",
        "\n",
        "def SUN_trace(cfgs):\n",
        "    return torch.einsum('...ii', cfgs)\n",
        "\n",
        "def check_determinant_SUN(cfgs, tol):\n",
        "    dtm = SUN_determinant(cfgs)\n",
        "    return (dtm - 1.0).abs() > tol\n",
        "\n",
        "def SUN_dagger(cfgs):\n",
        "    return torch.conj(torch.transpose(cfgs,-2,-1))\n",
        "\n",
        "def SUN_mul(U,V):\n",
        "    return torch.einsum('...ij,...jk->...ik',U,V)\n",
        "\n",
        "def plaquette_SUN(cfgs, D, N):\n",
        "    retr = torch.zeros(cfgs[:,0].shape[:-2], dtype = torch.double)\n",
        "    dims = range(1,D+1)\n",
        "    for nu in range(1,D):\n",
        "        for mu in range(0,nu):\n",
        "            plaq = SUN_mul(SUN_dagger(cfgs[:,nu]),cfgs[:,mu])\n",
        "            plaq = SUN_mul(plaq,torch.roll(cfgs,1,dims=(-D + mu - 2))[:,nu])\n",
        "            plaq = SUN_mul(plaq,SUN_dagger(torch.roll(cfgs,1,dims=(-D + nu - 2)))[:,mu])\n",
        "            retr += SUN_trace(plaq).real\n",
        "    return torch.mean(retr, tuple(dims))/(D*(D-1)/2)/N\n",
        "\n",
        "\n",
        "def create_mask(D, T, L):\n",
        "    mask_shape = (2*D,D,T)\n",
        "    for i in range(1,D):\n",
        "        mask_shape += (L,)\n",
        "\n",
        "    mask = torch.zeros(mask_shape, dtype = int)\n",
        "    for mu in range(D):\n",
        "        for t in range(T):\n",
        "            for x in range(L):\n",
        "                if(D>2):\n",
        "                    for y in range(L):\n",
        "                        if(D>3):\n",
        "                            for z in range(L):\n",
        "                                parity = t + x + y + z\n",
        "                                mask[parity%2+mu*2,mu,t,x,y,z] = 1\n",
        "                        else:\n",
        "                            parity = t + x + y\n",
        "                            mask[parity%2+mu*2,mu,t,x,y] = 1\n",
        "                else:\n",
        "                    parity = t + x\n",
        "                    mask[parity%2+mu*2,mu,t,x] = 1\n",
        "\n",
        "    return mask.unsqueeze(1).unsqueeze(-1).unsqueeze(-1)\n",
        "\n",
        "def pstaple(cfgs, mu, nu, D):\n",
        "    pstaple = SUN_mul(torch.roll(cfgs,1,dims=(-D + mu - 2))[:,nu], SUN_dagger(torch.roll(cfgs,1,dims=(-D + nu - 2)))[:,mu])\n",
        "    return SUN_mul(pstaple, SUN_dagger(cfgs[:,nu]))\n",
        "\n",
        "def nstaple(cfgs, mu, nu, D):\n",
        "    nstaple = SUN_mul(SUN_dagger(torch.roll(cfgs,(1,-1),dims=(-D + mu - 2,-D + nu - 2))[:,nu]), SUN_dagger(torch.roll(cfgs,-1,dims=(-D + nu - 2)))[:,mu])\n",
        "    return SUN_mul(nstaple, torch.roll(cfgs,-1,dims=(-D + nu - 2))[:,nu])\n",
        "\n",
        "### heatbath\n",
        "\n",
        "def sum_of_staples(cfgs, mu, D, device):\n",
        "    staple = torch.zeros(cfgs[:,0].shape, dtype=torch.cdouble).to(device)\n",
        "    for nu in range(D):\n",
        "        if nu != mu:\n",
        "            pstaple = SUN_mul(torch.roll(cfgs,1,dims=(-D + mu - 2))[:,nu],\n",
        "                              SUN_dagger(torch.roll(cfgs,1,dims=(-D + nu - 2)))[:,mu])\n",
        "            pstaple = SUN_mul(pstaple, SUN_dagger(cfgs[:,nu]))\n",
        "            staple += pstaple\n",
        "            nstaple = SUN_mul(SUN_dagger(torch.roll(cfgs,(1,-1),dims=(-D + mu - 2,-D + nu - 2))[:,nu]),\n",
        "                              SUN_dagger(torch.roll(cfgs,-1,dims=(-D + nu - 2)))[:,mu])\n",
        "            nstaple = SUN_mul(nstaple, torch.roll(cfgs,-1,dims=(-D + nu - 2))[:,nu])\n",
        "            staple += nstaple\n",
        "\n",
        "    return staple\n",
        "\n",
        "def SU2_element(mat, i, j):\n",
        "    return torch.index_select(torch.index_select(mat,-2,i),-1,j).squeeze(-1).squeeze(-1)\n",
        "\n",
        "def SU2toSU3(Ak, phb, device):\n",
        "    A = torch.zeros(Ak.shape[:-2] + (2,1)).to(device)\n",
        "    B = torch.cat((torch.index_select(Ak,-1,torch.arange(phb)),A,torch.index_select(Ak,-1,torch.arange(phb,2))),-1)\n",
        "    A = torch.zeros(Ak.shape[:-2] + (1,2)).to(device)\n",
        "    C = torch.ones(Ak.shape[:-2] + (1,1)).to(device)\n",
        "    AA = torch.cat((torch.index_select(A,-1,torch.arange(phb)),C,torch.index_select(A,-1,torch.arange(phb,2))),-1)\n",
        "    return torch.cat((torch.index_select(B,-2,torch.arange(phb)),AA,torch.index_select(B,-2,torch.arange(phb,2))),-2)\n",
        "\n",
        "\n",
        "def heatbath(prefactor, mu, D, rand, device):\n",
        "    #WARNING: if rand[:,0] and one of the two other rand are simultaneously 0 a NaN occurs in the gradient of mod. Probably very unlikely\n",
        "    lam2 = (- 1.0 / (2.0 * prefactor) * (rand[:,0,mu,:] + rand[:,1,mu,:] * rand[:,2,mu,:]))\n",
        "    acc = (1.0 - lam2 >= rand[:,3,mu,:]**2)\n",
        "\n",
        "    x0 = (1.0 - 2.0 * lam2) * acc\n",
        "    #x0=x0.detach() # This detach prevents (unlikely) NaN in the gradient of the square root mod\n",
        "    stheta = torch.sqrt(1.0 - rand[:,4,mu,:]**2)\n",
        "    mod = torch.sqrt(1.0 - x0**2)\n",
        "\n",
        "    A = torch.complex(x0, mod*rand[:,4,mu,:]).unsqueeze(-1)\n",
        "    B = (stheta*mod*torch.complex(torch.cos(rand[:,5,mu,:]), torch.sin(rand[:,5,mu,:]))).unsqueeze(-1)\n",
        "    Xa = torch.ones(prefactor.shape + (1,)).to(device) * A\n",
        "    Xb = torch.ones(prefactor.shape + (1,)).to(device) * B\n",
        "    X = torch.cat((Xa,Xb),-1)\n",
        "\n",
        "    v1 = torch.conj((X * torch.tensor([1,-1]).view([1]*(len(X.shape)-1)+[2])).roll(1,-1))\n",
        "    Xmat = torch.cat((X.unsqueeze(-2),v1.unsqueeze(-2)),-2)\n",
        "    acc = acc.unsqueeze(-1).unsqueeze(-1)\n",
        "\n",
        "    return Xmat, acc\n",
        "\n",
        "def SU2_link_update_hb(beta, cfgs, mu, D, rand, device):\n",
        "    staples = sum_of_staples(cfgs, mu, D, device)\n",
        "    k = torch.sqrt(SUN_determinant(staples).abs())\n",
        "    staples = staples / k.unsqueeze(-1).unsqueeze(-1)\n",
        "\n",
        "    Xmat, acc = heatbath(beta*k, mu, D, rand[:,0:6], device)\n",
        "    new_cfgs = SUN_mul(Xmat, SUN_dagger(staples)) * acc + cfgs * ~acc\n",
        "    return new_cfgs.unsqueeze(1)\n",
        "\n",
        "def SU2_link_update_over(cfgs, mu, D, device):\n",
        "    staples = sum_of_staples(cfgs, mu, D, device)\n",
        "    k = torch.sqrt(SUN_determinant(staples).abs())\n",
        "    staples = staples / k.unsqueeze(-1).unsqueeze(-1)\n",
        "\n",
        "    staples = SUN_dagger(staples)\n",
        "    new_cfgs = SUN_mul(SUN_mul(staples, SUN_dagger(cfgs)), staples)\n",
        "    return new_cfgs.unsqueeze(1)\n",
        "\n",
        "def SU3_compute_RK(new_cfgs, staples, sel, phb):\n",
        "    sel2 = sel[sel != phb]\n",
        "    Rk = SUN_mul(new_cfgs, staples)# SUN_dagger(staples))\n",
        "\n",
        "    #generate SU(2) subgroup matrix from Rk\n",
        "    a = 0.5*(SU2_element(Rk,sel2[0],sel2[0]) + torch.conj(SU2_element(Rk,sel2[1],sel2[1]))).unsqueeze(-1)\n",
        "    b = 0.5*(SU2_element(Rk,sel2[0],sel2[1]) - torch.conj(SU2_element(Rk,sel2[1],sel2[0]))).unsqueeze(-1)\n",
        "    v0 = torch.cat((a,b),-1)\n",
        "    v1 = torch.conj((v0 * torch.tensor([1,-1]).view([1]*(len(v0.shape)-1)+[2])).roll(1,-1))\n",
        "    Rk = torch.cat((v0.unsqueeze(-2),v1.unsqueeze(-2)),-2)\n",
        "    k = torch.sqrt(SUN_determinant(Rk).abs())\n",
        "    Rk = Rk / k.unsqueeze(-1).unsqueeze(-1)\n",
        "    return Rk, k\n",
        "\n",
        "def SU3_link_update_hb(beta, cfgs, mu, D, rand, device):\n",
        "    #staples = sum_of_staples(cfgs, mu, D, device)\n",
        "    staples = checkpoint.checkpoint(sum_of_staples, cfgs, mu, D, device, use_reentrant=False)\n",
        "    phb_steps = 3\n",
        "    new_cfgs = cfgs[:,mu]\n",
        "    sel = torch.tensor([0,1,2]).to(device)\n",
        "    for phb in range(phb_steps):\n",
        "        Rk, k = SU3_compute_RK(new_cfgs, staples, sel, phb)\n",
        "        Xmat, acc = heatbath(2.0*beta*k/3.0, mu, D, rand[:,6*phb:6*(phb+1),:], device)\n",
        "        Ak = SUN_mul(Xmat, SUN_dagger(Rk))\n",
        "        Ak = SU2toSU3(Ak, phb, device)\n",
        "        new_cfgs = SUN_mul(Ak, new_cfgs) * acc + new_cfgs * ~acc\n",
        "    return new_cfgs.unsqueeze(1)\n",
        "\n",
        "def SU3_link_update_over(cfgs, mu, D, device):\n",
        "    #staples = sum_of_staples(cfgs, mu, D, device)\n",
        "    staples = checkpoint.checkpoint(sum_of_staples, cfgs, mu, D, device, use_reentrant=False)\n",
        "    phb_steps = 3\n",
        "    new_cfgs = cfgs[:,mu]\n",
        "    sel = torch.tensor([0, 1, 2])\n",
        "    for phb in range(phb_steps):\n",
        "        Rk, k = SU3_compute_RK(new_cfgs, staples, sel, phb)\n",
        "        i0 = torch.tensor([0])\n",
        "        i1 = torch.tensor([1])\n",
        "        a = (SU2_element(Rk,i1,i1)*SU2_element(Rk,i1,i1)+SU2_element(Rk,i0,i1)*SU2_element(Rk,i1,i0)).unsqueeze(-1)\n",
        "        b = (-SU2_element(Rk,i1,i1)*SU2_element(Rk,i0,i1)-SU2_element(Rk,i0,i1)*SU2_element(Rk,i0,i0)).unsqueeze(-1)\n",
        "        v0 = torch.cat((a,b),-1)\n",
        "        v1 = torch.conj((v0 * torch.tensor([1,-1]).view([1]*(len(v0.shape)-1)+[2])).roll(1,-1))\n",
        "        Ak = torch.cat((v0.unsqueeze(-2),v1.unsqueeze(-2)),-2)\n",
        "        #bring Ak back to SU(3)\n",
        "        Ak = SU2toSU3(Ak, phb, device)\n",
        "        #new link is Ak*old_link\n",
        "        new_cfgs = SUN_mul(Ak, new_cfgs)\n",
        "    return new_cfgs.unsqueeze(1)\n",
        "\n",
        "#haar measure sampling\n",
        "\n",
        "def haar_heatbath(rand, cfgs_shape, device):\n",
        "    x0 = rand[:,0,:]\n",
        "    acc = (1.0 - x0**2 >= rand[:,3,:]**2)\n",
        "\n",
        "    x0 = x0 * acc\n",
        "    stheta = torch.sqrt(1.0 - rand[:,4,:]**2)\n",
        "    mod = torch.sqrt(1.0 - x0**2)\n",
        "\n",
        "    A = torch.complex(x0, mod*rand[:,4,:]).unsqueeze(-1)\n",
        "    B = (stheta*mod*torch.complex(torch.cos(rand[:,5,:]), torch.sin(rand[:,5,:]))).unsqueeze(-1)\n",
        "    Xa = torch.ones(cfgs_shape[:-2] + (1,)).to(device) * A\n",
        "    Xb = torch.ones(cfgs_shape[:-2] + (1,)).to(device) * B\n",
        "    v0 = torch.cat((Xa,Xb),-1)\n",
        "\n",
        "    v1 = torch.conj((v0 * torch.tensor([1,-1]).view([1]*(len(v0.shape)-1)+[2])).roll(1,-1))\n",
        "    Xmat = torch.cat((v0.unsqueeze(-2),v1.unsqueeze(-2)),-2)\n",
        "    acc = acc.unsqueeze(-1).unsqueeze(-1)\n",
        "\n",
        "    return Xmat, acc\n",
        "\n",
        "def SU2_link_haar_hb(cfgs, rand, device):\n",
        "    Xmat, acc = haar_heatbath(rand[:,0:6], cfgs.shape, device)\n",
        "    new_cfgs = Xmat * acc + cfgs * ~acc\n",
        "    return new_cfgs\n",
        "\n",
        "def SU3_link_haar_hb(cfgs, rand, device):\n",
        "    phb_steps = 3\n",
        "    new_cfgs = cfgs\n",
        "    for phb in range(phb_steps):\n",
        "        Xmat, acc = haar_heatbath(rand[:,6*phb:6*(phb+1),:], cfgs.shape, device)\n",
        "        Ak = SU2toSU3(Xmat, phb, device)\n",
        "        new_cfgs = SUN_mul(Ak, new_cfgs) * acc + new_cfgs * ~acc\n",
        "\n",
        "    return new_cfgs\n",
        "\n",
        "def init_hb(N, mask, D, orsteps, rn_shape, init_shape):\n",
        "    if N==2:\n",
        "        hb_update=SU2_link_update_hb\n",
        "        haar_hb_update=SU2_link_haar_hb\n",
        "        over_update=SU2_link_update_over\n",
        "    elif N==3:\n",
        "        hb_update=SU3_link_update_hb\n",
        "        haar_hb_update=SU3_link_haar_hb\n",
        "        over_update=SU3_link_update_over\n",
        "\n",
        "    def update(cfgs, beta, device):\n",
        "        rand = torch.rand(rn_shape).to(device)\n",
        "        if beta == 0.0:\n",
        "            #rand = torch.rand(rn_shape)\n",
        "            for rr in range(rn_shape[1]//6):\n",
        "                rand[:,rr*6] = 1.0 - 2.0 * rand[:,rr*6]\n",
        "                rand[:,rr*6+4] = 1.0 - 2.0 * rand[:,rr*6+4]\n",
        "                rand[:,rr*6+5] = 2.0 * torch.pi * rand[:,rr*6+5]\n",
        "\n",
        "            cfgs = haar_hb_update(cfgs, rand, device)\n",
        "        else:\n",
        "            for rr in range(rn_shape[1]//6):\n",
        "                rand[:,rr*6] = torch.log(1.0 - rand[:,rr*6])\n",
        "                rand[:,rr*6+1] = torch.cos(2.0 * torch.pi *(1.0 - rand[:,rr*6+1]))**2\n",
        "                rand[:,rr*6+2] = torch.log(1.0 - rand[:,rr*6+2])\n",
        "                rand[:,rr*6+4] = 1.0 - 2.0 * rand[:,rr*6+4]\n",
        "                rand[:,rr*6+5] = 2.0 * torch.pi * rand[:,rr*6+5]\n",
        "\n",
        "            for mu in range(D):\n",
        "                for eo in range(2):\n",
        "                    current_mask = mask[eo+mu*2,:]\n",
        "                    cfgs_new = hb_update(beta, cfgs, mu, D, rand, device)\n",
        "                    cfgs = current_mask * cfgs_new + (1-current_mask) * cfgs\n",
        "\n",
        "            for o in range(orsteps):\n",
        "                for mu in range(D):\n",
        "                    for eo in range(2):\n",
        "                        current_mask = mask[eo+mu*2,:]\n",
        "                        cfgs_new = over_update(cfgs, mu, D, device)\n",
        "                        cfgs = current_mask * cfgs_new + (1-current_mask) * cfgs\n",
        "        return cfgs\n",
        "\n",
        "    return update\n",
        "\n",
        "\n",
        "\n",
        "#functions for smearing:\n",
        "def xi0(w, w2):\n",
        "    return torch.where(torch.abs(w) > 0.005, torch.sin(w)/w, 1. - 1./6.*w2*(1. - 1./20.*w2*(1. - 1./42.*w2)))\n",
        "\n",
        "def xi1(w, w2):\n",
        "    return torch.where(torch.abs(w) > 0.005, torch.cos(w)/w2 - torch.sin(w)/w**3,\n",
        "                       -1./3. + w2*(1./30. + w2*(-1./840 + 1./45360.*w2)))\n",
        "\n",
        "def xi2(w, w2, xizero, xione):\n",
        "    return torch.where(torch.abs(w) > 0.005, 1./w2*(xizero + 3. * xione), -1./15. + w2*(1./210. - w2/7560.))\n",
        "\n",
        "#stuff for Jacobian\n",
        "def otimes(A,B):\n",
        "    return torch.einsum('...ij,...kl->...ijkl',A,B)\n",
        "\n",
        "def oplus(A,B):\n",
        "    return torch.einsum('...kj,...il->...ijkl',A,B)\n",
        "\n",
        "def starprod(A,B):\n",
        "    return torch.einsum('...inml,...njkm->...ijkl',A,B)\n",
        "\n",
        "def starprodmat(A,B):\n",
        "    return torch.einsum('...ijkn,...nl->...ijkl',A,B)\n",
        "\n",
        "def matstarprod(A,B):\n",
        "    return torch.einsum('...in,...njkl->...ijkl',A,B)\n",
        "\n",
        "def generate_coefficients(Q, Q2, id, oidid, oidQ, device):\n",
        "    c0 = SUN_determinant(Q)\n",
        "    c1 = .5 * SUN_trace(Q2)\n",
        "    c0max = 2.0 * (c1 / 3.0)**1.5\n",
        "\n",
        "    sgnc0 = torch.real(torch.sgn(c0))\n",
        "    c0 = torch.abs(c0)\n",
        "\n",
        "    theta = torch.arccos(c0/c0max)\n",
        "    u = torch.sqrt(c1/3.0) * torch.cos(theta/3.0)\n",
        "    w = torch.sqrt(c1) * torch.sin(theta/3.0)\n",
        "    u2 = u**2\n",
        "    w2 = w**2\n",
        "    cw = torch.cos(w)\n",
        "    eu = torch.cos(u) + 1.j*torch.sin(u)\n",
        "    eu2 = eu**2\n",
        "    eum = eu**(-1)\n",
        "\n",
        "    xizero = xi0(w, w2)\n",
        "    xione = xi1(w, w2)\n",
        "\n",
        "    h0 = (u2 - w2)*eu2 + eum*(8.*u2*cw + 2.j*u*(3.*u2 + w2)*xizero)\n",
        "    h1 = 2.*u*eu2 - eum*(2.*u*cw - 1.j*(3.*u2 - w2)*xizero)\n",
        "    h2 = eu2 - eum*(cw + 3.j*u*xizero)\n",
        "\n",
        "    r10 = 2.*(u + 1.j*(u2 - w2))*eu2 + 2.*eum*(4.*u*(2.-1.j*u)*cw + 1.j*(9.*u2 + w2 - 1.j*u*(3.*u2 + w2)) * xizero)\n",
        "    r11 = 2.*(1. + 2.j*u)*eu2 + eum*(-2.*(1.-1.j*u)*cw + 1.j*(6.*u + 1.j*(w2 - 3.*u2))*xizero)\n",
        "    r12 = 2.j*eu2 + 1.j*eum*(cw - 3.*(1.-1.j*u)*xizero)\n",
        "    r20 = -2.*eu2 + 2.j*u*eum*(cw + (1.+4.j*u)*xizero + 3.*u2*xione)\n",
        "    r21 = -1.j*eum*(cw + (1.+2.j*u)*xizero - 3.*u2*xione)\n",
        "    r22 = eum * (xizero - 3.j*u*xione)\n",
        "\n",
        "    den = 9.*u2 - w2\n",
        "    den2 = 2. * den**2\n",
        "    v3u2mw2 = 3.*u2 - w2\n",
        "    v15u2pw2 = 15.*u2 + w2\n",
        "\n",
        "    f0 = h0 / den\n",
        "    f1 = h1 / den\n",
        "    f2 = h2 / den\n",
        "\n",
        "    b10 = (2.*u*r10 + v3u2mw2 * r20 - 2.*v15u2pw2*f0) / den2\n",
        "    b11 = (2.*u*r11 + v3u2mw2 * r21 - 2.*v15u2pw2*f1) / den2\n",
        "    b12 = (2.*u*r12 + v3u2mw2 * r22 - 2.*v15u2pw2*f2) / den2\n",
        "    b20 = (r10 - 3.*u*r20 - 24.*u*f0) / den2\n",
        "    b21 = (r11 - 3.*u*r21 - 24.*u*f1) / den2\n",
        "    b22 = (r12 - 3.*u*r22 - 24.*u*f2) / den2\n",
        "\n",
        "    f0 = torch.where(sgnc0 > 0, f0, torch.conj(f0))\n",
        "    f1 = torch.where(sgnc0 > 0, f1, -torch.conj(f1))\n",
        "    f2 = torch.where(sgnc0 > 0, f2, torch.conj(f2))\n",
        "\n",
        "    b10 = torch.where(sgnc0 > 0, b10, torch.conj(b10))\n",
        "    b11 = torch.where(sgnc0 > 0, b11, -torch.conj(b11))\n",
        "    b12 = torch.where(sgnc0 > 0, b12, torch.conj(b12))\n",
        "    b20 = torch.where(sgnc0 > 0, b20, -torch.conj(b20))\n",
        "    b21 = torch.where(sgnc0 > 0, b21, torch.conj(b21))\n",
        "    b22 = torch.where(sgnc0 > 0, b22, -torch.conj(b22))\n",
        "\n",
        "    B1 = b10.unsqueeze(-1).unsqueeze(-1) * id + b11.unsqueeze(-1).unsqueeze(-1) * Q +\\\n",
        "         + b12.unsqueeze(-1).unsqueeze(-1) * Q2\n",
        "    B2 = b20.unsqueeze(-1).unsqueeze(-1) * id + b21.unsqueeze(-1).unsqueeze(-1) * Q +\\\n",
        "         + b22.unsqueeze(-1).unsqueeze(-1) * Q2\n",
        "\n",
        "    return f0.unsqueeze(-1).unsqueeze(-1), f1.unsqueeze(-1).unsqueeze(-1), f2.unsqueeze(-1).unsqueeze(-1), B1, B2\n",
        "\n",
        "def generate_omega(C, U):\n",
        "    return SUN_mul(C, SUN_dagger(U))\n",
        "\n",
        "def generate_Q(omega, N):   #check i in definition\n",
        "    return 0.5 * 1.j * (SUN_dagger(omega) - omega) - 0.5 * 1.j/N * SUN_trace(SUN_dagger(omega) - omega).unsqueeze(-1).unsqueeze(-1)\n",
        "\n",
        "def generate_expQ(Q, Q2, id, f0, f1, f2):\n",
        "    return f0 * id + f1 * Q + f2 * Q2\n",
        "\n",
        "def generate_dQ_domega(N, oidid, id):\n",
        "    A = oidid\n",
        "    B = oplus(id, id)\n",
        "    return -1.j*(.5 * A - .5/N * B)\n",
        "\n",
        "def generate_dexpQ_dQ(Q, Q2, B1, B2, f1, f2, id, oidid, oidQ):\n",
        "    M = oplus(Q, B1)\n",
        "    M += oplus(Q2, B2)\n",
        "    M += f1.unsqueeze(-1).unsqueeze(-1)*oidid\n",
        "    M += f2.unsqueeze(-1).unsqueeze(-1)*oidQ\n",
        "    return M\n",
        "\n",
        "def generate_domega_dU(C, id):\n",
        "    return -otimes(id, SUN_dagger(C))\n",
        "\n",
        "def generate_domega_dC(U, oidid):\n",
        "    return starprodmat(oidid, SUN_dagger(U))\n",
        "\n",
        "def generate_dQ_dU(dQdomega, id, C):\n",
        "    B = generate_domega_dU(C, id)\n",
        "    return starprod(dQdomega, B)\n",
        "\n",
        "def generate_dQ_dC(dQdomega, oidid, U):\n",
        "    B = generate_domega_dC(U, oidid)\n",
        "    return starprod(dQdomega, B)\n",
        "\n",
        "def generate_dexpQ_dU(dexpQdQ, dQ_dU):\n",
        "    return starprod(dexpQdQ, dQ_dU)\n",
        "\n",
        "def generate_Jacobian_U(dexpQdU, U, expQ, oidid):\n",
        "    return starprodmat(dexpQdU, U) + matstarprod(expQ, oidid)\n",
        "\n",
        "def generate_Jacobian_C(dexpQdQ, dQdC, U):\n",
        "    A = starprod(dexpQdQ, dQdC)\n",
        "    return starprodmat(A, U)\n",
        "\n",
        "def Jacobian_reshape(jac, jac_shape):\n",
        "    return torch.einsum('...ijkl->...iljk',jac).reshape(jac_shape)\n",
        "\n",
        "def det_Jac(J):\n",
        "    return torch.linalg.det(J)\n",
        "\n",
        "def stout_staples(cfgs, mu, D, rho, device):\n",
        "    staple = torch.zeros(cfgs[:,0].shape, dtype=torch.cdouble).to(device)\n",
        "    if len(rho) == 1:\n",
        "        for nu in range(D):\n",
        "            if nu != mu:\n",
        "                staple += rho * (SUN_dagger(pstaple(cfgs, mu, nu, D)) + SUN_dagger(nstaple(cfgs, mu, nu, D)))\n",
        "    else:\n",
        "        for nu in range(D):\n",
        "            if nu != mu:\n",
        "                staple += rho[nu] * (SUN_dagger(pstaple(cfgs, mu, nu, D)) + SUN_dagger(nstaple(cfgs, mu, nu, D)))\n",
        "    return staple\n",
        "\n",
        "def stout_smearing(cfgs, mu, D, rho, jac_shape, device):\n",
        "    C = checkpoint.checkpoint(stout_staples, cfgs, mu, D, rho, device, use_reentrant=False, preserve_rng_state=False)\n",
        "\n",
        "    U = cfgs[:,mu]\n",
        "    id = SUN_identity(U.shape[:-1])\n",
        "    N = U.shape[-1]\n",
        "    omega = generate_omega(C, U)\n",
        "    Q = generate_Q(omega, N)\n",
        "    Q2 = SUN_mul(Q, Q)\n",
        "\n",
        "    oidid = otimes(id, id)\n",
        "    oidQ = otimes(id, Q) + otimes(Q, id)\n",
        "\n",
        "    f0, f1, f2, B1, B2 = generate_coefficients(Q, Q2, id, oidid, oidQ, device)\n",
        "    expQ = generate_expQ(Q, Q2, id, f0, f1, f2)\n",
        "    dexpQdQ = generate_dexpQ_dQ(Q, Q2, B1, B2, f1, f2, id, oidid, oidQ)\n",
        "\n",
        "    dQdomega = generate_dQ_domega(N, oidid, id)\n",
        "    dQdU = generate_dQ_dU(dQdomega, id, C)\n",
        "    dexpQdU = generate_dexpQ_dU(dexpQdQ, dQdU)\n",
        "    Jacobian_U = generate_Jacobian_U(dexpQdU, U, expQ, oidid)\n",
        "    detjac = det_Jac(Jacobian_reshape(Jacobian_U, jac_shape)).abs()\n",
        "\n",
        "    return SUN_mul(expQ, U).unsqueeze(1), detjac.unsqueeze(1)\n"
      ]
    },
    {
      "cell_type": "markdown",
      "metadata": {
        "id": "17Lr0nUaf0Pa"
      },
      "source": [
        "## Target Action"
      ]
    },
    {
      "cell_type": "markdown",
      "metadata": {
        "id": "TPNGmAHnf0Pb"
      },
      "source": [
        "In this notebook, we target $\\textrm{SU}(3)$ gauge theory. Although some parts of the code are written for a general number of colors $N$, this implementation works only for $N=3$."
      ]
    },
    {
      "cell_type": "code",
      "execution_count": 4,
      "metadata": {
        "id": "fC-YjyZbIqbO"
      },
      "outputs": [],
      "source": [
        "class S_SUN:\n",
        "    def __init__(self, D,N):\n",
        "      self.D=D\n",
        "      self.N=N\n",
        "    def __call__(self,cfgs, beta):\n",
        "      retr = torch.zeros(cfgs[:,0].shape[:-2], dtype = torch.double)\n",
        "      dims = range(1,self.D+1)\n",
        "      for nu in range(1,self.D):\n",
        "          for mu in range(0,nu):\n",
        "              plaq = SUN_mul(SUN_dagger(cfgs[:,nu]),cfgs[:,mu])\n",
        "              plaq = SUN_mul(plaq,torch.roll(cfgs,1,dims=(-self.D + mu - 2))[:,nu])\n",
        "              plaq = SUN_mul(plaq,SUN_dagger(torch.roll(cfgs,1,dims=(-self.D + nu - 2)))[:,mu])\n",
        "              retr += SUN_trace(plaq).real\n",
        "\n",
        "      return beta*torch.sum(6.0 - retr/self.N, tuple(dims))"
      ]
    },
    {
      "cell_type": "markdown",
      "metadata": {
        "id": "RE6pOQN-f0Pb"
      },
      "source": [
        "## Prior"
      ]
    },
    {
      "cell_type": "markdown",
      "metadata": {
        "id": "u4SsXHVRf0Pb"
      },
      "source": [
        "In our work, we used a thermalized MCMC as a prior for our SNFs, implemented in the following class."
      ]
    },
    {
      "cell_type": "code",
      "execution_count": 5,
      "metadata": {
        "id": "BYGzVwuYIqX3"
      },
      "outputs": [],
      "source": [
        "class PriorSUN:\n",
        "    def __init__(self, init_shape, action, beta, update, therm_steps, mcmc_steps, device):\n",
        "        '''\n",
        "        This class implements a standard MCMC used as a prior for our SNFs.\n",
        "        Given a general MCMC update, the class thermalizes a batch of replicas\n",
        "        at fixed action and then runs a standard MCMC over these samples.\n",
        "        '''\n",
        "        self.init_shape=init_shape\n",
        "        self.update=update\n",
        "        self.beta=beta\n",
        "        self.therm_steps=therm_steps #thermalization steps\n",
        "        self.mcmc_steps=mcmc_steps #sweep steps\n",
        "        self.action=action\n",
        "        self.device=device\n",
        "\n",
        "    def __call__(self, cfgs=None):\n",
        "        if cfgs != None:\n",
        "            with torch.no_grad():\n",
        "                for i in range(self.mcmc_steps):\n",
        "                    cfgs = self.update(cfgs, self.beta, self.device)\n",
        "        else:\n",
        "            with torch.no_grad():\n",
        "                cfgs = self.therm()\n",
        "        return cfgs, self.action(cfgs, self.beta)\n",
        "\n",
        "    def therm(self):\n",
        "        cfgs = SUN_identity(self.init_shape).to(self.device)\n",
        "        for i in range(self.therm_steps):\n",
        "            cfgs = self.update(cfgs, self.beta, self.device)\n",
        "        return cfgs\n"
      ]
    },
    {
      "cell_type": "markdown",
      "metadata": {
        "id": "v8wdRdjBf0Pb"
      },
      "source": [
        "## Non-Equilibrium MCMC"
      ]
    },
    {
      "cell_type": "markdown",
      "metadata": {
        "id": "oTPL2yjif0Pb"
      },
      "source": [
        "The main core of the Non-Equilibrium MCMC used in our work is the heatbath update (see the textbook [Quantum fields on a lattice](https://inspirehep.net/literature/378182)). In this implementation, the heatbath work only for $N=2,3$"
      ]
    },
    {
      "cell_type": "markdown",
      "metadata": {
        "id": "T_4_5fIbf0Pb"
      },
      "source": [
        "Given an MCMC update, the stochastic layer is very simple. Defining the input sample as $U_i$ and the stochastic layer $sl$,\n",
        "the output $U_o$ is obtained by applying the stochastic update to the input: $U_o=sl(U_i)$. The pseudoheat $Q$ is then computed as the difference between the action of the input and the target: $Q=S(U_o)-S(U_i)$"
      ]
    },
    {
      "cell_type": "code",
      "execution_count": 6,
      "metadata": {
        "id": "_yDrbOzxf0Pb"
      },
      "outputs": [],
      "source": [
        "class NEMCMC_update(torch.nn.Module):\n",
        "    def __init__(self,action, beta,update,device):\n",
        "        '''\n",
        "        This class implement a NE-MCMC steps wrapped in a pytorch module.\n",
        "        The action and the coupling beta are given by the chosen protocol while\n",
        "        the update can be a general MCMC transformation that satisfy detailed balance\n",
        "        '''\n",
        "        super().__init__()\n",
        "        self.action=action #action fixed in the MCMC update\n",
        "        self.update = update #choosen update\n",
        "        self.beta = beta #coupling of the action\n",
        "        self.device = device\n",
        "    def forward(self,cfgs):\n",
        "        s_old=self.action(cfgs,self.beta)\n",
        "        cfgs=self.update(cfgs,self.beta,self.device) #get the new samples\n",
        "        return cfgs, self.action(cfgs,self.beta)-s_old, 0 #output: new configurations and Q"
      ]
    },
    {
      "cell_type": "markdown",
      "metadata": {
        "id": "-0H2aNKVf0Pb"
      },
      "source": [
        "## Gauge Equivariant Layer"
      ]
    },
    {
      "cell_type": "markdown",
      "metadata": {
        "id": "8c269KI6f0Pb"
      },
      "source": [
        "In our code, we used a gauge equivariant network inspired by [[Nagai and Tomiya; 2103.11965](https://arxiv.org/abs/2103.11965)] and [[Abbott et al.;2305.02402](https://arxiv.org/abs/2305.02402)], see also [[Morningstar and Peardon; hep-lat/0311018](https://arxiv.org/abs/hep-lat/0311018)].  Our implementation works only for $N=3$."
      ]
    },
    {
      "cell_type": "markdown",
      "metadata": {
        "id": "FFVEdP8vf0Pb"
      },
      "source": [
        "The following class implements the gauge quivariant layer. Each layer $g_i$ computes the output $U_i=g_i(U_{i-1})$ and the logarithm of the Jacobian of the transformation. To simplify the computation of the Jacobian, we used even-odd masks."
      ]
    },
    {
      "cell_type": "code",
      "execution_count": 7,
      "metadata": {
        "id": "nuFPZkVhf0Pb"
      },
      "outputs": [],
      "source": [
        "class Smearing(torch.nn.Module):\n",
        "    def __init__(self, N, mask, D,  jac_shape, scale_fac, rho_shape, device, rho_root=None, smearing_steps=1):\n",
        "        '''\n",
        "        Gauge equivariant layer for our SNF. The transformation is a stout\n",
        "        smearing with learnable parameters, the square root of which\n",
        "        is the matrix rho_root. This class can be used as a neural network,\n",
        "        where the number of layers is determined by the parameter smearing_steps.\n",
        "        '''\n",
        "        super().__init__()\n",
        "        self.N = N\n",
        "        self.mask = mask\n",
        "        self.D = D\n",
        "        self.smearing_steps = smearing_steps #numbers of layers for each coupling layer, default 1\n",
        "        #The class can take as input a trained set of parameters in order to easily transfer them among different models\n",
        "        if rho_root is None:\n",
        "            self.rho_root = torch.nn.Parameter(torch.rand(rho_shape).to(device) * scale_fac)\n",
        "        else:\n",
        "            self.rho_root = torch.nn.Parameter(rho_root)\n",
        "\n",
        "        self.jac_shape = jac_shape\n",
        "        self.device = device\n",
        "\n",
        "    def forward(self, cfgs):\n",
        "        ones = (torch.ones(self.mask[0].shape, dtype=torch.double).squeeze(-1).squeeze(-1)).to(self.device)\n",
        "        bs = cfgs.shape[0]\n",
        "        dlogJ = torch.zeros(bs, dtype=torch.double).to(self.device)\n",
        "        dims = tuple(np.arange(1,self.D+2))\n",
        "        for sm in range(self.smearing_steps): #loops over layers of the coupling layer\n",
        "            for mu in range(self.D): #loops over dimensions\n",
        "                for eo in range(2): #loops over even-odd fields\n",
        "                    current_mask = self.mask[eo+mu*2,:]\n",
        "                    rho = self.rho_root[sm,eo+mu*2,:]**2\n",
        "                    cfgs_new, jac = stout_smearing(cfgs, mu, self.D, rho, self.jac_shape, self.device)\n",
        "                    cfgs = current_mask * cfgs_new + (1-current_mask) * cfgs\n",
        "                    jac = torch.log(current_mask.squeeze(-1).squeeze(-1) * jac + (1-current_mask.squeeze(-1).squeeze(-1)) * ones)\n",
        "                    dlogJ += torch.sum(jac, dims)\n",
        "        return cfgs, 0, dlogJ"
      ]
    },
    {
      "cell_type": "markdown",
      "metadata": {
        "id": "aPQ8O9y9f0Pc"
      },
      "source": [
        "## General class for SNF"
      ]
    },
    {
      "cell_type": "markdown",
      "metadata": {
        "id": "C9k6AcbWf0Pc"
      },
      "source": [
        "We can now build a general class for SNFs. The constructor of the class takes as input the target action and coupling, and list of layers.\n",
        "\n",
        "Given a batch of prior samples $U_0$ and their action $S_0(U_0)$, the class computes the generated samples $U$, the work for the evolutions $[U_0,\\cdots, U]$:\n",
        "$$W(U_0,\\cdots, U)= S(U) - S_0(U_0) - Q(U_0,\\cdots, U) -\\log J(U_0,\\cdots, U),$$\n",
        "\n",
        "where $Q(U_0,\\cdots, U)$ is the sum over the pseudoheat of each stochastic layer and $\\log J(U_0,\\cdots, U)$ is the sum of the logarithms of the Jacobians of the gauge equivariant layers.\n",
        "\n",
        "The class also computes the free energy difference between target and prior and the ESS."
      ]
    },
    {
      "cell_type": "code",
      "execution_count": 8,
      "metadata": {
        "id": "im57ry9Cjfvh"
      },
      "outputs": [],
      "source": [
        "class Flow:\n",
        "    def __init__(self, action, coupling, flow):\n",
        "        super().__init__()\n",
        "        self.action=action #target action\n",
        "        self.flow = flow #list of layers\n",
        "        self.coupling = coupling #target coupling\n",
        "\n",
        "    def __call__(self,x,s0):\n",
        "        x, Q, logJ = self.forward(x) #calculation of generated sample x, Q, and logJ\n",
        "        st = self.action(x,self.coupling)\n",
        "        w = st - s0 - Q - 2.0*logJ #Calculation of the work W\n",
        "        deltaF, ess = self.compute_metrics(w)  #calculation of metrics: \\Delta F and ESS\n",
        "        return x, w, deltaF, ess\n",
        "\n",
        "    def forward(self,x): #Forward of the flow\n",
        "        Q = torch.zeros(x.shape[0])\n",
        "        logJ = torch.zeros(x.shape[0])\n",
        "        for layer in self.flow:\n",
        "            x, dQ, dlogJ = layer.forward(x)\n",
        "            Q += dQ\n",
        "            logJ += dlogJ\n",
        "        return x, Q, logJ\n",
        "\n",
        "    def compute_metrics(self,w): #Standard metrics\n",
        "        wd = w.detach()\n",
        "        DF = - torch.log(torch.mean(torch.exp(-(wd-wd.mean())))) + wd.mean()\n",
        "        ess = (torch.mean(torch.exp(-(wd-wd.mean())))**2)/torch.mean(torch.exp(-2.0*(wd-wd.mean())))\n",
        "        return DF,ess\n",
        "\n",
        "    def sample_(self,x,s0): #sample function for testing\n",
        "        with torch.no_grad():\n",
        "            x, Q, logJ = self.forward(x) #calculation of generated sample x, Q, and logJ\n",
        "            st = self.action(x,self.coupling)\n",
        "            w = st - s0 - Q - 2.0*logJ\n",
        "        return x, w"
      ]
    },
    {
      "cell_type": "markdown",
      "metadata": {
        "id": "1awWtLokf0Pc"
      },
      "source": [
        "The following function builds an SNF:"
      ]
    },
    {
      "cell_type": "code",
      "execution_count": 9,
      "metadata": {
        "id": "8hIfZjDBtfDE"
      },
      "outputs": [],
      "source": [
        "def make_SNF(betas, action, update, N, mask, D, init_shape, jac_shape,torch_device, scale_fac=0.01**4,smearing_steps=1,):\n",
        "    layers=[]\n",
        "    for b in betas: #For every beta of the protocol we add:\n",
        "        #one deterministic layer:\n",
        "        smr=Smearing( N, mask, D,  jac_shape, scale_fac, (smearing_steps, 2*D, 4), device=torch_device)\n",
        "        layers.append(smr)\n",
        "        #one stocastic layer:\n",
        "        stb=NEMCMC_update(action, b, update, torch_device)\n",
        "        layers.append(stb)\n",
        "    flow=Flow(action, betas[-1], torch.nn.ModuleList(layers).to(torch_device))\n",
        "    return flow"
      ]
    },
    {
      "cell_type": "markdown",
      "metadata": {
        "id": "FWV_9iTKf0Pc"
      },
      "source": [
        "## Play with SU$(3)$ SNFs"
      ]
    },
    {
      "cell_type": "markdown",
      "metadata": {
        "id": "XxCEDTCNf0Pc"
      },
      "source": [
        "We can now play with our SNF, the main parameters needed to initialize the flows are:\n",
        "\n",
        "- bs: batch size\n",
        "- D: dimension\n",
        "- T: temporal extension\n",
        "- L: spatial extension\n",
        "- N: colors, this notebook works only for $N=3$\n",
        "- k(N=2)=6, k(N=3)=18\n",
        "\n",
        "Shapes:\n",
        "- configurations shape = (bs, D, T, L,..., L, N, N)\n",
        "- initialization shape = (bs, D, T, L,..., L, N)\n",
        "- random numbers shape = (bs, k(N), D, T, L,..., L)"
      ]
    },
    {
      "cell_type": "markdown",
      "metadata": {
        "id": "uoznIsXAf0Pc"
      },
      "source": [
        "For simplicity, we will test the SNF on $4^4$ lattices."
      ]
    },
    {
      "cell_type": "code",
      "execution_count": 10,
      "metadata": {
        "id": "Oacp6mMNawbN"
      },
      "outputs": [],
      "source": [
        "N=3\n",
        "D=4\n",
        "bs=8\n",
        "T=4\n",
        "L=4\n",
        "init_shape=(bs,D,T,L,L,L,N)\n",
        "jac_shape=(bs,T,L,L,L,N*N,N*N)\n",
        "rn_shape=(bs,18,D,T,L,L,L)\n",
        "orsteps=1"
      ]
    },
    {
      "cell_type": "markdown",
      "metadata": {
        "id": "nxUWsC6qf0Pc"
      },
      "source": [
        "Prior, target parameters and the (linear) protocol for the non-equilibrium part:"
      ]
    },
    {
      "cell_type": "code",
      "execution_count": 11,
      "metadata": {
        "colab": {
          "base_uri": "https://localhost:8080/"
        },
        "id": "FEOiJDzXq18F",
        "outputId": "4f61a66b-ae78-44cc-c4e5-bb6356368e2d"
      },
      "outputs": [
        {
          "output_type": "execute_result",
          "data": {
            "text/plain": [
              "array([6.04, 6.08, 6.12, 6.16, 6.2 ])"
            ]
          },
          "metadata": {},
          "execution_count": 11
        }
      ],
      "source": [
        "beta0=6.0 #prior beta\n",
        "beta_tar=6.2 #target beta\n",
        "steps_beta=5 #numers of steps of the protocol, i.e. NE-MCMCM updates\n",
        "betas = np.linspace(beta0 + (beta_tar - beta0)/steps_beta, beta_tar, steps_beta) # Protocol\n",
        "betas"
      ]
    },
    {
      "cell_type": "markdown",
      "metadata": {
        "id": "uzwOIe7qf0Pc"
      },
      "source": [
        "Let's build the SNF:"
      ]
    },
    {
      "cell_type": "code",
      "execution_count": 12,
      "metadata": {
        "id": "BacDCcWnawog"
      },
      "outputs": [],
      "source": [
        "action = S_SUN(D ,N) #Theory\n",
        "mask = create_mask(D, T, L).to(torch_device) #even-odd mask\n",
        "update = init_hb(N, mask, D, orsteps, rn_shape, init_shape) #MCMC update for prior and SNFs\n",
        "\n",
        "therm_steps= 50 #Thermalization steps for the prior\n",
        "mcmc_steps = 1 # Sweep steps for the prior\n",
        "prior = PriorSUN(init_shape, action, beta0, update, therm_steps, mcmc_steps, torch_device)\n",
        "\n",
        "flow = make_SNF(betas, action, update, N, mask, D, init_shape, jac_shape,torch_device)"
      ]
    },
    {
      "cell_type": "markdown",
      "metadata": {
        "id": "PcyfixjMf0Pc"
      },
      "source": [
        "### Training"
      ]
    },
    {
      "cell_type": "markdown",
      "metadata": {
        "id": "xb6IESyMf0Pc"
      },
      "source": [
        "We can now train the SNF using the standard procedure."
      ]
    },
    {
      "cell_type": "code",
      "execution_count": 13,
      "metadata": {
        "id": "T6-NihDSqqCW"
      },
      "outputs": [],
      "source": [
        "n_epochs=100 #number of gradient update\n",
        "optimizer=torch.optim.Adam(flow.flow.parameters(), lr=0.001) #optimizer\n",
        "history={'loss':[],'ESS':[]} #saved metrics"
      ]
    },
    {
      "cell_type": "code",
      "execution_count": 14,
      "metadata": {
        "colab": {
          "base_uri": "https://localhost:8080/"
        },
        "id": "c1_y3aJ-vLLH",
        "outputId": "a2a45741-adac-48fc-8cfe-78a5c81c2c38"
      },
      "outputs": [
        {
          "output_type": "stream",
          "name": "stdout",
          "text": [
            "step: 1, loss: 121.91833141136661, w_var: 1.2766864408695855, ess: 0.42733332303792004, Delta_free_en: 121.33116908469485\n",
            "step: 2, loss: 123.31562144271825, w_var: 2.627479035712949, ess: 0.49158988690765515, Delta_free_en: 122.50960417852444\n",
            "step: 3, loss: 122.42312240463198, w_var: 1.3859537277422997, ess: 0.5145057925813616, Delta_free_en: 121.88507008236165\n",
            "step: 4, loss: 122.4597624956364, w_var: 1.4694733103990967, ess: 0.551351786328524, Delta_free_en: 121.9522426210709\n",
            "step: 5, loss: 122.32839137877238, w_var: 3.1760022215255153, ess: 0.3799742687883824, Delta_free_en: 121.25070624092407\n",
            "step: 6, loss: 121.18017986906013, w_var: 1.4532793075603347, ess: 0.44614726997711945, Delta_free_en: 120.5853110208313\n",
            "step: 7, loss: 121.1065314336733, w_var: 2.475484845318207, ess: 0.647615976472843, Delta_free_en: 120.44693716584696\n",
            "step: 8, loss: 122.4468012152256, w_var: 4.273278550824656, ess: 0.28948178767525745, Delta_free_en: 120.91502253955306\n",
            "step: 9, loss: 122.48218821250192, w_var: 3.3657591704527534, ess: 0.23856677614639096, Delta_free_en: 121.10209647777337\n",
            "step: 10, loss: 122.42555183745083, w_var: 2.716353947783969, ess: 0.4842965319274733, Delta_free_en: 121.5840246170939\n",
            "step: 11, loss: 122.39389022768188, w_var: 1.6654210245979826, ess: 0.1939069486778445, Delta_free_en: 121.25745300400808\n",
            "step: 12, loss: 121.649492328641, w_var: 2.005466196945005, ess: 0.271496179743888, Delta_free_en: 120.68099664617563\n",
            "step: 13, loss: 122.08229753348807, w_var: 0.9328338110084784, ess: 0.5715848224805277, Delta_free_en: 121.68867506687153\n",
            "step: 14, loss: 121.63544853058423, w_var: 1.265495461568113, ess: 0.5062647017973838, Delta_free_en: 121.15952031749985\n",
            "step: 15, loss: 122.81584614118222, w_var: 1.2632067746288826, ess: 0.26064019755675727, Delta_free_en: 122.03306454409983\n",
            "step: 16, loss: 122.15712401465645, w_var: 1.7529099111608677, ess: 0.6170344737859311, Delta_free_en: 121.63907909108863\n",
            "step: 17, loss: 122.52629900699935, w_var: 2.160102040272708, ess: 0.48283502479185786, Delta_free_en: 121.81757115331332\n",
            "step: 18, loss: 123.03521129112667, w_var: 2.084810343956457, ess: 0.5461567615175671, Delta_free_en: 122.3703309190164\n",
            "step: 19, loss: 122.38415656325242, w_var: 1.7896188689796322, ess: 0.5034933334965707, Delta_free_en: 121.76356625211629\n",
            "step: 20, loss: 121.71542793946924, w_var: 2.3962744901429143, ess: 0.24798226908134866, Delta_free_en: 120.55079619277075\n",
            "step: 21, loss: 122.80448429215397, w_var: 0.9417594291218586, ess: 0.5859555533435209, Delta_free_en: 122.42797865159775\n",
            "step: 22, loss: 122.20073774600102, w_var: 1.074706948749504, ess: 0.6018251267850415, Delta_free_en: 121.81619005950336\n",
            "step: 23, loss: 121.87584400763197, w_var: 0.2612851435163028, ess: 0.8256298655278115, Delta_free_en: 121.76760914530632\n",
            "step: 24, loss: 121.94643260886639, w_var: 2.9981842564050782, ess: 0.4424915983121153, Delta_free_en: 120.99818920725615\n",
            "step: 25, loss: 122.00799931678779, w_var: 2.0475825139706685, ess: 0.5102556134745379, Delta_free_en: 121.30394531758141\n",
            "step: 26, loss: 122.36136754915923, w_var: 2.756057448988259, ess: 0.49674878470194084, Delta_free_en: 121.46755402815755\n",
            "step: 27, loss: 122.30860871839758, w_var: 1.1385284493323715, ess: 0.6335145984705094, Delta_free_en: 121.90723095594119\n",
            "step: 28, loss: 121.95136713133071, w_var: 1.9076814401108855, ess: 0.4937744864990753, Delta_free_en: 121.23194615322154\n",
            "step: 29, loss: 121.66819850490361, w_var: 0.32383386274056386, ess: 0.7794215608596903, Delta_free_en: 121.52727686142609\n",
            "step: 30, loss: 120.91733547223133, w_var: 1.603351107289154, ess: 0.5605831579375027, Delta_free_en: 120.41678360591322\n",
            "step: 31, loss: 122.23074604081953, w_var: 2.3967435454816077, ess: 0.3418269317857109, Delta_free_en: 121.2249328796793\n",
            "step: 32, loss: 121.64790550885144, w_var: 1.4928165425385764, ess: 0.5241778813318937, Delta_free_en: 121.12042442003595\n",
            "step: 33, loss: 120.63553800631327, w_var: 1.0258287298293458, ess: 0.46654887713532994, Delta_free_en: 120.18690691297836\n",
            "step: 34, loss: 121.27653587526575, w_var: 1.703311007458567, ess: 0.5589541137839658, Delta_free_en: 120.70798470724792\n",
            "step: 35, loss: 121.68882483204948, w_var: 2.534561542794003, ess: 0.4058063440676457, Delta_free_en: 120.88019841121817\n",
            "step: 36, loss: 120.89069593632217, w_var: 0.11838412761397533, ess: 0.9168748198503894, Delta_free_en: 120.84106119437436\n",
            "step: 37, loss: 121.59105575881415, w_var: 1.8027299700163846, ess: 0.4367872150761521, Delta_free_en: 120.88046524552708\n",
            "step: 38, loss: 121.66586349769483, w_var: 1.2506814990128894, ess: 0.6584120743314728, Delta_free_en: 121.2835257138939\n",
            "step: 39, loss: 121.83494400855942, w_var: 0.4710302802144105, ess: 0.820365452605687, Delta_free_en: 121.67044210687385\n",
            "step: 40, loss: 120.97807207880167, w_var: 0.9528773773052236, ess: 0.6174567649840018, Delta_free_en: 120.6142608904622\n",
            "step: 41, loss: 121.24127566326626, w_var: 0.3851526036262784, ess: 0.7419714227107653, Delta_free_en: 121.07391709975512\n",
            "step: 42, loss: 122.09061377977451, w_var: 0.7761522946723647, ess: 0.6752284806481452, Delta_free_en: 121.79061144491801\n",
            "step: 43, loss: 121.91714913736914, w_var: 0.9137767817838061, ess: 0.7391124214451996, Delta_free_en: 121.62453483755392\n",
            "step: 44, loss: 121.35882291277719, w_var: 0.9048937350521372, ess: 0.595213733008252, Delta_free_en: 120.97911324029295\n",
            "step: 45, loss: 120.52064448863331, w_var: 1.5672477095888093, ess: 0.5045551081056441, Delta_free_en: 119.87933495633632\n",
            "step: 46, loss: 121.2015047947163, w_var: 2.0699376622861605, ess: 0.4620833185237769, Delta_free_en: 120.44746882246056\n",
            "step: 47, loss: 121.67239593693867, w_var: 0.7592751567435133, ess: 0.5755719132193378, Delta_free_en: 121.32511650046818\n",
            "step: 48, loss: 121.58644308866772, w_var: 1.5526090206412708, ess: 0.4657973568386955, Delta_free_en: 120.97100836245743\n",
            "step: 49, loss: 121.71390734731173, w_var: 0.4921838319871012, ess: 0.7387073703495882, Delta_free_en: 121.51573986618843\n",
            "step: 50, loss: 121.30335507211164, w_var: 0.11366621797156208, ess: 0.925266608814729, Delta_free_en: 121.2569711168076\n",
            "step: 51, loss: 121.55093124472484, w_var: 0.41579984848467644, ess: 0.736706961603545, Delta_free_en: 121.3730646457836\n",
            "step: 52, loss: 120.86659445730211, w_var: 0.44577709292415946, ess: 0.7649529160327557, Delta_free_en: 120.69782631312334\n",
            "step: 53, loss: 120.99025454563852, w_var: 1.0503625069395934, ess: 0.5787119225196057, Delta_free_en: 120.57855280938743\n",
            "step: 54, loss: 120.6388471263484, w_var: 1.6045814672232306, ess: 0.6417980201773731, Delta_free_en: 120.14644345535115\n",
            "step: 55, loss: 121.44621953712021, w_var: 1.1963371545183314, ess: 0.651654603233525, Delta_free_en: 121.05666429017964\n",
            "step: 56, loss: 121.71862142452176, w_var: 3.1279056371686265, ess: 0.4372437723043174, Delta_free_en: 120.69492512186439\n",
            "step: 57, loss: 120.88627185472558, w_var: 0.8370279108340318, ess: 0.6554527066569664, Delta_free_en: 120.56801614108049\n",
            "step: 58, loss: 121.7252799966684, w_var: 0.12254632095833594, ess: 0.9165445178551868, Delta_free_en: 121.67464643835231\n",
            "step: 59, loss: 121.60216170449712, w_var: 0.5291315911182726, ess: 0.7715171538447505, Delta_free_en: 121.40727323368641\n",
            "step: 60, loss: 120.99745312649434, w_var: 2.648424496546892, ess: 0.5136695179994036, Delta_free_en: 120.1665132289505\n",
            "step: 61, loss: 121.49192295931311, w_var: 1.3158451599452914, ess: 0.3585341977824249, Delta_free_en: 120.85529602021039\n",
            "step: 62, loss: 120.9980335964851, w_var: 0.5857530196246377, ess: 0.7996180216872517, Delta_free_en: 120.80432848018799\n",
            "step: 63, loss: 120.79942110825802, w_var: 0.48780470546237725, ess: 0.49086880837764424, Delta_free_en: 120.50895371927689\n",
            "step: 64, loss: 121.05574182915377, w_var: 0.8624587043906301, ess: 0.597737713878124, Delta_free_en: 120.70172138491135\n",
            "step: 65, loss: 121.21572683393154, w_var: 1.1447213644546157, ess: 0.49049168692994355, Delta_free_en: 120.75088068463108\n",
            "step: 66, loss: 121.02037958878279, w_var: 0.4309186911661259, ess: 0.7692534990056208, Delta_free_en: 120.84387068427499\n",
            "step: 67, loss: 120.611217441573, w_var: 1.344291146731516, ess: 0.5666079180598834, Delta_free_en: 120.13913134875105\n",
            "step: 68, loss: 121.44669080038989, w_var: 1.2760963664490184, ess: 0.5405683261821095, Delta_free_en: 120.9419068847803\n",
            "step: 69, loss: 120.76841723320334, w_var: 1.523444974049577, ess: 0.500847662206132, Delta_free_en: 120.1605127250078\n",
            "step: 70, loss: 121.43459578216762, w_var: 0.9266243811545618, ess: 0.5809883216207236, Delta_free_en: 121.06155008640087\n",
            "step: 71, loss: 121.38322402941739, w_var: 0.6037033040098849, ess: 0.7056469587547525, Delta_free_en: 121.1483828017878\n",
            "step: 72, loss: 121.7232640931168, w_var: 0.6388558481569279, ess: 0.8285548149626372, Delta_free_en: 121.52783592107406\n",
            "step: 73, loss: 121.30186473834382, w_var: 1.475827184463245, ess: 0.5520400583555736, Delta_free_en: 120.76790386396331\n",
            "step: 74, loss: 120.67476802824285, w_var: 1.795486311172821, ess: 0.30507343882243015, Delta_free_en: 119.88854933761549\n",
            "step: 75, loss: 120.77816015919552, w_var: 0.665742576383734, ess: 0.742829346063523, Delta_free_en: 120.54701901803674\n",
            "step: 76, loss: 121.55389705581158, w_var: 1.2433152873816513, ess: 0.5977830340447797, Delta_free_en: 121.10857337819154\n",
            "step: 77, loss: 121.05569024300772, w_var: 1.9544996088082613, ess: 0.40623498867199576, Delta_free_en: 120.27053091855048\n",
            "step: 78, loss: 120.9718090058944, w_var: 3.4778310473181206, ess: 0.3806876663583725, Delta_free_en: 119.77984369688636\n",
            "step: 79, loss: 120.7819497044755, w_var: 1.4104746589660642, ess: 0.46039622584733836, Delta_free_en: 120.19606114105805\n",
            "step: 80, loss: 121.25626216271851, w_var: 1.5550276226380506, ess: 0.28393740469021617, Delta_free_en: 120.46005075817567\n",
            "step: 81, loss: 121.24923963413707, w_var: 1.2868686587736582, ess: 0.5730380259231219, Delta_free_en: 120.76424266478797\n",
            "step: 82, loss: 121.64987876891763, w_var: 0.3730704698593511, ess: 0.7628305078331634, Delta_free_en: 121.49064591915034\n",
            "step: 83, loss: 121.82585476238012, w_var: 0.9724840001001126, ess: 0.5734538908565883, Delta_free_en: 121.41817772262407\n",
            "step: 84, loss: 121.80202569918367, w_var: 0.6845886001524153, ess: 0.6588540298925418, Delta_free_en: 121.52198366074825\n",
            "step: 85, loss: 121.55426017627391, w_var: 3.268574766794612, ess: 0.5651098475661984, Delta_free_en: 120.65608280717048\n",
            "step: 86, loss: 121.31377211066312, w_var: 1.019440059198941, ess: 0.6677721500467061, Delta_free_en: 120.95671935300376\n",
            "step: 87, loss: 121.45153329417175, w_var: 1.1495556455731832, ess: 0.3705150561949812, Delta_free_en: 120.89575723536993\n",
            "step: 88, loss: 121.4653036428466, w_var: 1.3595954549306772, ess: 0.4889563855105193, Delta_free_en: 120.92267470459753\n",
            "step: 89, loss: 121.15584599604102, w_var: 1.1202925314428032, ess: 0.5990392455028544, Delta_free_en: 120.76392442806362\n",
            "step: 90, loss: 121.62313244640524, w_var: 0.9912936283123351, ess: 0.6439096401957434, Delta_free_en: 121.26135113949212\n",
            "step: 91, loss: 121.70555878522067, w_var: 1.3413416683731183, ess: 0.36164402202281487, Delta_free_en: 121.05448854881932\n",
            "step: 92, loss: 120.92371877397207, w_var: 0.5011582208187535, ess: 0.7613832481763381, Delta_free_en: 120.73804021082098\n",
            "step: 93, loss: 122.32373791787148, w_var: 2.877284621746032, ess: 0.5859428160930568, Delta_free_en: 121.61338696081576\n",
            "step: 94, loss: 121.65686911852102, w_var: 0.33342536314352705, ess: 0.7712473908717923, Delta_free_en: 121.51216539997212\n",
            "step: 95, loss: 121.75665712079618, w_var: 1.602306923391841, ess: 0.39157202903042004, Delta_free_en: 121.0734479322428\n",
            "step: 96, loss: 121.55539654856595, w_var: 0.7706943602111177, ess: 0.5403075063010561, Delta_free_en: 121.2027606358815\n",
            "step: 97, loss: 121.5120742925681, w_var: 1.2103929379103722, ess: 0.5613295955924708, Delta_free_en: 121.03951609009657\n",
            "step: 98, loss: 120.98041269430772, w_var: 1.7536565578923102, ess: 0.4614628380584842, Delta_free_en: 120.33648350309177\n",
            "step: 99, loss: 121.636087601954, w_var: 1.345770511053844, ess: 0.6183340632629923, Delta_free_en: 121.19772010516604\n",
            "step: 100, loss: 121.72551696293344, w_var: 1.0601498977918478, ess: 0.3858732186159368, Delta_free_en: 121.19304406020424\n"
          ]
        }
      ],
      "source": [
        "if torch_device == 'cuda':\n",
        "    torch.cuda.empty_cache() #clean the gpu\n",
        "\n",
        "x0, s0 = prior() #thermalize replicas batch_size of prior samples\n",
        "for t in range(n_epochs):\n",
        "    optimizer.zero_grad()\n",
        "    x0, s0 = prior(cfgs=x0) #apply one standard MCMC step to obtain new prior configurations\n",
        "    x, w, df, ess = flow(x0, s0) #forward pass of the model\n",
        "    loss=w.mean() #average Work\n",
        "    history['loss'].append(grab(loss)) #metrics\n",
        "    history['ESS'].append(grab(ess)) #metrics\n",
        "    #print metrics\n",
        "    print(f'step: {t + 1},'\n",
        "          f' loss: {grab(loss)},'\n",
        "          f' w_var: {grab(w.var())},'\n",
        "          f' ess: {grab(ess)},'\n",
        "          f' Delta_free_en: {grab(df)}')\n",
        "    loss.backward() #backward\n",
        "    optimizer.step() #gradient update\n"
      ]
    },
    {
      "cell_type": "markdown",
      "metadata": {
        "id": "5BgZGft5f0Pd"
      },
      "source": [
        "The training is finished, we can now print the learning curve for the ESS"
      ]
    },
    {
      "cell_type": "code",
      "execution_count": 27,
      "metadata": {
        "colab": {
          "base_uri": "https://localhost:8080/",
          "height": 430
        },
        "id": "I5u2rfnyWXM5",
        "outputId": "7c5c4767-0917-47e6-f6d8-8759b7dfc09a"
      },
      "outputs": [
        {
          "output_type": "display_data",
          "data": {
            "text/plain": [
              "<Figure size 640x480 with 1 Axes>"
            ],
            "image/png": "[encoded data removed]"
          },
          "metadata": {}
        }
      ],
      "source": [
        "plt.plot(history['ESS'])\n",
        "plt.savefig('ess.pdf')"
      ]
    },
    {
      "cell_type": "markdown",
      "metadata": {
        "id": "vt4xPEXSf0Pe"
      },
      "source": [
        "and the learning curve for the average work:"
      ]
    },
    {
      "cell_type": "code",
      "execution_count": 16,
      "metadata": {
        "colab": {
          "base_uri": "https://localhost:8080/",
          "height": 430
        },
        "id": "5ygFxYfXneut",
        "outputId": "ee381bd5-586c-454d-de54-f4d760d0e180"
      },
      "outputs": [
        {
          "output_type": "display_data",
          "data": {
            "text/plain": [
              "<Figure size 640x480 with 1 Axes>"
            ],
            "image/png": "[encoded data removed]"
          },
          "metadata": {}
        }
      ],
      "source": [
        "plt.plot(history['loss'])\n",
        "plt.savefig('loss.pdf')"
      ]
    },
    {
      "cell_type": "markdown",
      "metadata": {
        "id": "5lH_ebyDf0Pe"
      },
      "source": [
        "## Testing"
      ]
    },
    {
      "cell_type": "markdown",
      "metadata": {
        "id": "6JUvnYN6f0Pe"
      },
      "source": [
        "In the following we compute $\\Delta F$, ESS, $D_{\\text{KL}}$ and $Var(W)$. We will not compute the errors here; in our implementation, the errors are computed using an automatic differentiation method implemented by [pyerros](https://fjosw.github.io/pyerrors/pyerrors.html)."
      ]
    },
    {
      "cell_type": "code",
      "execution_count": 17,
      "metadata": {
        "id": "dYa7o1TWf0Pe"
      },
      "outputs": [],
      "source": [
        "#Function for metrics\n",
        "from scipy.special import logsumexp\n",
        "def compute_metrics(w):\n",
        "    N = w.shape[-1]\n",
        "    logZ = logsumexp(-w,-1)\n",
        "    log_ess = 2.0 * logZ - logsumexp(-2 * w,-1)\n",
        "    ess_per_cfg = np.exp(log_ess) / N\n",
        "    logZ = logZ - np.log(N)\n",
        "    return w.mean(), w.var(), -logZ, ess_per_cfg,"
      ]
    },
    {
      "cell_type": "code",
      "execution_count": 18,
      "metadata": {
        "id": "Mwjtoxo6f0Pe"
      },
      "outputs": [],
      "source": [
        "n_meas=100 #total number of configurations considered = n_meas * bs"
      ]
    },
    {
      "cell_type": "code",
      "execution_count": 19,
      "metadata": {
        "id": "tRT72crjqqIv"
      },
      "outputs": [],
      "source": [
        "#thermalization and loop over batch:\n",
        "W=[]\n",
        "x0, s0 = prior()\n",
        "for i in (range(n_meas)):\n",
        "    x0, s0 = prior(cfgs=x0)\n",
        "    _, w = flow.sample_(x0,s0)\n",
        "    W.append(grab(w))\n",
        "W=np.asarray(W).reshape(-1)"
      ]
    },
    {
      "cell_type": "code",
      "execution_count": 20,
      "metadata": {
        "id": "HCNwzkY4f0Pe"
      },
      "outputs": [],
      "source": [
        "work, var_work, DeltaF, ess= compute_metrics(W)"
      ]
    },
    {
      "cell_type": "code",
      "execution_count": 21,
      "metadata": {
        "colab": {
          "base_uri": "https://localhost:8080/"
        },
        "id": "1y4aRm62f0Pe",
        "outputId": "e20a45e0-de73-4d32-f4d9-00f4109f6194"
      },
      "outputs": [
        {
          "output_type": "stream",
          "name": "stdout",
          "text": [
            " work: 121.28314823205098, w_var: 1.1933404490798523, ess: 0.3825412279190507, Delta free energy: 120.7276394867531 Dkl: 0.5555087452978711\n"
          ]
        }
      ],
      "source": [
        "print(f' work: {work},'\n",
        "      f' w_var: {var_work},'\n",
        "      f' ess: {ess},'\n",
        "      f' Delta free energy: {DeltaF}'\n",
        "      f' Dkl: {work-DeltaF}')"
      ]
    },
    {
      "cell_type": "markdown",
      "source": [
        "## Some suggested future implementation"
      ],
      "metadata": {
        "id": "RyQAN-T4YOem"
      }
    },
    {
      "cell_type": "markdown",
      "source": [
        "Now that you have played with our SNF, you can try larger volumes, more steps, or different couplings. Additional implementations can include the training used in our paper, i.e., each deterministic layer is trained independently along each forward pass., or the extrapolation of the parameteters."
      ],
      "metadata": {
        "id": "lx9nx_jYYWeN"
      }
    },
    {
      "cell_type": "markdown",
      "source": [
        "**Have fun!**"
      ],
      "metadata": {
        "id": "kzuXhKDQYyKM"
      }
    }
  ],
  "metadata": {
    "accelerator": "GPU",
    "colab": {
      "gpuType": "T4",
      "provenance": []
    },
    "kernelspec": {
      "display_name": "Python 3",
      "name": "python3"
    },
    "language_info": {
      "codemirror_mode": {
        "name": "ipython",
        "version": 3
      },
      "file_extension": ".py",
      "mimetype": "text/x-python",
      "name": "python",
      "nbconvert_exporter": "python",
      "pygments_lexer": "ipython3",
      "version": "3.9.6"
    }
  },
  "nbformat": 4,
  "nbformat_minor": 0
}